{
 "cells": [
  {
   "cell_type": "markdown",
   "metadata": {},
   "source": [
    "### MNIST Handwritten Digit Recognizer With Live Video Feed\n",
    "<pre>\n",
    "Authors            : Rajendra Bhagroo  | Christopher Guevarra\n",
    "Emails             : Rbhagroo@Nyit.edu | Cguevarr@nyit.edu\n",
    "\n",
    "Course Name        : Artificial Intelligence 1\n",
    "Course Number      : CSCI 355 - W01D\n",
    "Course Instructor  : Maherukh Akhtar\n",
    "\n",
    "Date Due           : 12/10/18\n",
    "Date Last Modified : 12/8/18\n",
    "Kernel             : Python 3.6.6\n",
    "\n",
    "Credits: \n",
    "* Yassine Ghouzam  : https://bit.ly/2Tz2u9N\n",
    "* Jason Brownlee   : https://bit.ly/2vtcCUe\n",
    "</pre>"
   ]
  },
  {
   "cell_type": "code",
   "execution_count": 1,
   "metadata": {
    "collapsed": true
   },
   "outputs": [],
   "source": [
    "# Install pip packages for the current Jupyter kernel\n",
    "from sys import executable\n",
    "\n",
    "!{executable} -m pip install --upgrade pip\n",
    "!{executable} -m pip install opencv-python\n",
    "!{executable} -m pip install matplotlib\n",
    "!{executable} -m pip install keras\n",
    "\n",
    "# Python 3.6 compatable: https://www.tensorflow.org/install/pip\n",
    "!{executable} -m pip install --upgrade tensorflow"
   ]
  },
  {
   "cell_type": "code",
   "execution_count": 2,
   "metadata": {},
   "outputs": [
    {
     "name": "stderr",
     "output_type": "stream",
     "text": [
      "Using TensorFlow backend.\n"
     ]
    }
   ],
   "source": [
    "'''\n",
    "Sets matplotlib's backend engine to display plots within current Jupyter kernel\n",
    "Sets Tensorflow as backend engine\n",
    "'''\n",
    "%matplotlib inline\n",
    "import matplotlib\n",
    "import matplotlib.image as mpimg\n",
    "import matplotlib.pyplot as plt\n",
    "import tensorflow as tf\n",
    "import numpy as np\n",
    "import cv2\n",
    "import os\n",
    "\n",
    "'''\n",
    "https://keras.io/datasets/#mnist-database-of-handwritten-digits\n",
    "To implement different dataset see: http://yann.lecun.com/exdb/mnist/\n",
    "'''\n",
    "from keras.datasets import mnist\n",
    "\n",
    "# Keras is a high level API that will use TensorFlow for its backend engine\n",
    "from keras.models import Sequential\n",
    "from keras.layers import Dense\n",
    "from keras.layers import Dropout\n",
    "from keras.layers import Flatten\n",
    "from keras.layers.convolutional import Conv2D\n",
    "from keras.layers.convolutional import MaxPooling2D\n",
    "from keras.utils import np_utils\n",
    "from keras import backend as K\n",
    "\n",
    "# Allows us to save [dump] and load models\n",
    "import pickle"
   ]
  },
  {
   "cell_type": "code",
   "execution_count": 3,
   "metadata": {},
   "outputs": [],
   "source": [
    "# Random numbers seeded [fixed] for reproducability\n",
    "np.random.seed(5)\n",
    "\n",
    "# Load data\n",
    "'''\n",
    "Dataset Info:\n",
    "    28x28 greyscale images [Digits 0-9]\n",
    "    Training Set: 60,000 images\n",
    "    Testing Set: 10,000 images\n",
    "    X_train, X_test: uint8 array of grayscale image data with shape (num_samples, 28, 28)\n",
    "    y_train, y_test: uint8 array of digit labels (integers in range 0-9) with shape (num_samples,)\n",
    "'''\n",
    "(X_train, y_train), (X_test, y_test) = mnist.load_data()"
   ]
  },
  {
   "cell_type": "code",
   "execution_count": 4,
   "metadata": {},
   "outputs": [
    {
     "name": "stdout",
     "output_type": "stream",
     "text": [
      "\n",
      "Before Manipulation\n",
      "    X_train class type: <class 'numpy.ndarray'>\n",
      "    X_train data type: uint8\n",
      "    X_train shape: (60000, 28, 28)\n",
      "\n",
      "\n",
      "After Manipulation\n",
      "    X_train class type: <class 'numpy.ndarray'>\n",
      "    X_train data type: float32\n",
      "    X_train shape: (60000, 1, 28, 28)\n",
      "\n"
     ]
    }
   ],
   "source": [
    "# Preprocess data\n",
    "'''\n",
    "Inspecting the data, we can see that we are working with a numpy array with shape (60000, 28, 28)\n",
    "\n",
    "Shape:\n",
    "    Number Of Samples: 60,000\n",
    "    Rows    [pixels] : 28\n",
    "    Columns [pixels] : 28\n",
    "'''\n",
    "\n",
    "print(f'''\n",
    "Before Manipulation\n",
    "    X_train class type: {type(X_train)}\n",
    "    X_train data type: {X_train.dtype}\n",
    "    X_train shape: {X_train.shape}\n",
    "''')\n",
    "\n",
    "\n",
    "# Reshape data\n",
    "'''\n",
    "Reshape numpy array from 3D to 4D, resembling [samples][channels][width][height]\n",
    "1 channel = greyscale images, we would use 3 channels for RGB colored images.\n",
    "\n",
    "We will also change the datatype from uint8 to float32 to work with decimal range [0-1]\n",
    "'''\n",
    "\n",
    "X_train = X_train.reshape(X_train.shape[0], 1, 28, 28).astype('float32')\n",
    "X_test = X_test.reshape(X_test.shape[0], 1, 28, 28).astype('float32')\n",
    "\n",
    "print(f'''\n",
    "After Manipulation\n",
    "    X_train class type: {type(X_train)}\n",
    "    X_train data type: {X_train.dtype}\n",
    "    X_train shape: {X_train.shape}\n",
    "''')"
   ]
  },
  {
   "cell_type": "code",
   "execution_count": 5,
   "metadata": {},
   "outputs": [
    {
     "name": "stdout",
     "output_type": "stream",
     "text": [
      "\n",
      "Un-Normalized Array [RGB: 0-255]\n",
      "\n",
      "[   0.    0.    0.    0.    0.    0.    0.   18.  219.  253.  253.  253.\n",
      "  253.  253.  198.  182.  247.  241.    0.    0.    0.    0.    0.    0.\n",
      "    0.    0.    0.    0.]\n",
      "\n",
      "\n",
      "Normalized Array [Greyscale: 0-1]\n",
      "\n",
      "[ 0.          0.          0.          0.          0.          0.          0.\n",
      "  0.07058824  0.85882354  0.99215686  0.99215686  0.99215686  0.99215686\n",
      "  0.99215686  0.7764706   0.71372551  0.96862745  0.94509804  0.          0.\n",
      "  0.          0.          0.          0.          0.          0.          0.\n",
      "  0.        ]\n",
      "\n",
      "Number Of Classes: 10\n"
     ]
    }
   ],
   "source": [
    "# Normalize data \n",
    "# Input images are represented by 8-bits, 0-255 range [RGB]. lets change the range to 0-1 [Greyscale]\n",
    "\n",
    "print(f'''\n",
    "Un-Normalized Array [RGB: 0-255]\\n\n",
    "{X_train[0][0][8]}\n",
    "''')\n",
    "\n",
    "X_train /= 255\n",
    "X_test /= 255\n",
    "\n",
    "print(f'''\n",
    "Normalized Array [Greyscale: 0-1]\\n\n",
    "{X_train[0][0][8]}\n",
    "''')\n",
    "\n",
    "\n",
    "# One-Hot encode data\n",
    "'''\n",
    "Encode using one-of-K scheme. Converts raw values into numerical form to feed into model\n",
    "Binary vector representation of categorical data\n",
    "Example:                  0123456789\n",
    "         Raw Digit [4] = [0001000000]\n",
    "         Raw Digit [9] = [0000000010]\n",
    "'''\n",
    "\n",
    "y_train = np_utils.to_categorical(y_train)\n",
    "y_test = np_utils.to_categorical(y_test)\n",
    "\n",
    "num_classes = y_test.shape[1]\n",
    "print(f\"Number Of Classes: {num_classes}\")"
   ]
  },
  {
   "cell_type": "code",
   "execution_count": 6,
   "metadata": {},
   "outputs": [
    {
     "data": {
      "image/png": "[encoded data removed]",
      "text/plain": [
       "<matplotlib.figure.Figure at 0x7f5938c97160>"
      ]
     },
     "metadata": {
      "needs_background": "light"
     },
     "output_type": "display_data"
    },
    {
     "data": {
      "image/png": "[encoded data removed]",
      "text/plain": [
       "<matplotlib.figure.Figure at 0x7f5935d18e80>"
      ]
     },
     "metadata": {
      "needs_background": "light"
     },
     "output_type": "display_data"
    },
    {
     "data": {
      "image/png": "[encoded data removed]",
      "text/plain": [
       "<matplotlib.figure.Figure at 0x7f5935caa518>"
      ]
     },
     "metadata": {
      "needs_background": "light"
     },
     "output_type": "display_data"
    },
    {
     "data": {
      "image/png": "[encoded data removed]",
      "text/plain": [
       "<matplotlib.figure.Figure at 0x7f5935c0d4e0>"
      ]
     },
     "metadata": {
      "needs_background": "light"
     },
     "output_type": "display_data"
    },
    {
     "data": {
      "image/png": "[encoded data removed]",
      "text/plain": [
       "<matplotlib.figure.Figure at 0x7f5935c08630>"
      ]
     },
     "metadata": {
      "needs_background": "light"
     },
     "output_type": "display_data"
    }
   ],
   "source": [
    "# Plot data\n",
    "\n",
    "'''\n",
    "Using Matplotlib to plot the first 5 images in the test set, labels included in one-hot form\n",
    "Remember This Example?\n",
    "\n",
    "Example:                  0123456789\n",
    "         Raw Digit [4] = [0001000000]\n",
    "         Raw Digit [9] = [0000000010]\n",
    "'''\n",
    "for i in range(5):\n",
    "    \n",
    "    # Grab image and process\n",
    "    image = X_test[i]\n",
    "    image = np.array(image, dtype='float32')\n",
    "    pixels = image.reshape((28, 28))\n",
    "    \n",
    "    # Plot image with corresponding one-hot encoded label \n",
    "    plt.title(f'One-Hot Encoded Label\\n {y_test[i]}')\n",
    "    plt.imshow(pixels, cmap='gray')\n",
    "    plt.show()"
   ]
  },
  {
   "cell_type": "code",
   "execution_count": 7,
   "metadata": {},
   "outputs": [],
   "source": [
    "# Define model\n",
    "\n",
    "'''\n",
    "\"th\" mode means that the images should have shape (samples, channels, height, width)\n",
    "\"tf\" mode means that the images should have shape (samples, height, width, channels)\n",
    "'''\n",
    "K.set_image_dim_ordering('th')\n",
    "\n",
    "'''\n",
    "Deep learning models & layers pose a lengthy explanation.\n",
    "It is HIGHLY recommended to check out the documentation on Keras!\n",
    "https://keras.io/\n",
    "'''\n",
    "def build_cnn():\n",
    "    # Sequential model is a linear stack of layers, hence \"deep\" learning\n",
    "    model = Sequential()\n",
    "\n",
    "\n",
    "    model.add(Conv2D(30, (5, 5), input_shape=(1, 28, 28), activation='relu'))\n",
    "    model.add(MaxPooling2D(pool_size=(2, 2)))\n",
    "    \n",
    "    model.add(Conv2D(15, (3, 3), activation='relu'))\n",
    "    model.add(MaxPooling2D(pool_size=(2, 2)))\n",
    "    \n",
    "    model.add(Dropout(rate=0.2))\n",
    "    model.add(Flatten())\n",
    "    \n",
    "    model.add(Dense(units=128, activation='relu'))\n",
    "    model.add(Dense(units=50, activation='relu'))\n",
    "    \n",
    "    model.add(Dense(units=num_classes, activation='softmax'))\n",
    "    \n",
    "    # Compile model\n",
    "    model.compile(loss='categorical_crossentropy', optimizer='adam', metrics=['accuracy'])\n",
    "    return model"
   ]
  },
  {
   "cell_type": "code",
   "execution_count": 8,
   "metadata": {},
   "outputs": [
    {
     "name": "stdout",
     "output_type": "stream",
     "text": [
      "Train on 60000 samples, validate on 10000 samples\n",
      "Epoch 1/10\n",
      "60000/60000 [==============================] - 132s 2ms/step - loss: 0.3702 - acc: 0.8890 - val_loss: 0.0913 - val_acc: 0.9734\n",
      "Epoch 2/10\n",
      "60000/60000 [==============================] - 130s 2ms/step - loss: 0.0941 - acc: 0.9713 - val_loss: 0.0469 - val_acc: 0.9840\n",
      "Epoch 3/10\n",
      "60000/60000 [==============================] - 130s 2ms/step - loss: 0.0674 - acc: 0.9794 - val_loss: 0.0373 - val_acc: 0.9872\n",
      "Epoch 4/10\n",
      "60000/60000 [==============================] - 130s 2ms/step - loss: 0.0567 - acc: 0.9827 - val_loss: 0.0310 - val_acc: 0.9900\n",
      "Epoch 5/10\n",
      "60000/60000 [==============================] - 130s 2ms/step - loss: 0.0468 - acc: 0.9856 - val_loss: 0.0293 - val_acc: 0.9902\n",
      "Epoch 6/10\n",
      "60000/60000 [==============================] - 130s 2ms/step - loss: 0.0420 - acc: 0.9869 - val_loss: 0.0285 - val_acc: 0.9919\n",
      "Epoch 7/10\n",
      "60000/60000 [==============================] - 130s 2ms/step - loss: 0.0400 - acc: 0.9872 - val_loss: 0.0271 - val_acc: 0.9902\n",
      "Epoch 8/10\n",
      "60000/60000 [==============================] - 130s 2ms/step - loss: 0.0342 - acc: 0.9892 - val_loss: 0.0259 - val_acc: 0.9915\n",
      "Epoch 9/10\n",
      "60000/60000 [==============================] - 130s 2ms/step - loss: 0.0306 - acc: 0.9898 - val_loss: 0.0257 - val_acc: 0.9928\n",
      "Epoch 10/10\n",
      "60000/60000 [==============================] - 131s 2ms/step - loss: 0.0286 - acc: 0.9908 - val_loss: 0.0252 - val_acc: 0.9917\n",
      "Successfully Saved:\"MNIST_CNN_Model.sav\"\n",
      "\n",
      "Evaluating Model Performance\n",
      "10000/10000 [==============================] - 13s 1ms/step\n",
      "CNN Error: 0.83%\n"
     ]
    }
   ],
   "source": [
    "# Build or load model in current directory\n",
    "model_name = 'MNIST_CNN_Model.sav'\n",
    "\n",
    "if os.path.isfile(model_name):\n",
    "    # Load model from disk\n",
    "    model = pickle.load(open(model_name,'rb'))\n",
    "    print(f'Successfully Loaded:\"{model_name}\"')\n",
    "\n",
    "else:\n",
    "    # Build Model\n",
    "    model = build_cnn()\n",
    "\n",
    "    # Train Model\n",
    "    model.fit(X_train, y_train, validation_data=(X_test, y_test), epochs=10, batch_size=200)\n",
    "\n",
    "    # Save Model To Disk\n",
    "    pickle.dump(model, open(model_name, 'wb'))\n",
    "    print(f'Successfully Saved:\"{model_name}\"')\n",
    "\n",
    "        \n",
    "# Evaluate Model\n",
    "print('\\nEvaluating Model Performance')\n",
    "scores = model.evaluate(X_test, y_test, verbose=1)\n",
    "print(\"CNN Error: %.2f%%\" % (100-scores[1]*100))"
   ]
  },
  {
   "cell_type": "code",
   "execution_count": 9,
   "metadata": {},
   "outputs": [
    {
     "name": "stdout",
     "output_type": "stream",
     "text": [
      "Directory:\"input_photos\" already exists, no further action needed\n"
     ]
    }
   ],
   "source": [
    "# Directory setup for image predictions\n",
    "# Creates directory within current working directory\n",
    "directory = 'input_photos'\n",
    "try:\n",
    "    if not os.path.exists(directory):\n",
    "        os.mkdir(directory)\n",
    "        print(f'Directory:\"{directory}\" successfully created')\n",
    "    else:\n",
    "        print(f'Directory:\"{directory}\" already exists, no further action needed')\n",
    "except:\n",
    "    print(f'Directory:\"{directory}\" could not be created')"
   ]
  },
  {
   "cell_type": "code",
   "execution_count": 47,
   "metadata": {},
   "outputs": [
    {
     "name": "stdout",
     "output_type": "stream",
     "text": [
      "\n",
      "Press SPACEBAR to take images of numbers.\n",
      "Press ESC to terminate video feed\n",
      "\n",
      "\"input_photos/Numeric_Image_0.png\" successfully written\n",
      "\"input_photos/Numeric_Image_1.png\" successfully written\n",
      "\"input_photos/Numeric_Image_2.png\" successfully written\n",
      "\"input_photos/Numeric_Image_3.png\" successfully written\n",
      "\"input_photos/Numeric_Image_4.png\" successfully written\n",
      "\n",
      "Terminating Video Source...\n"
     ]
    }
   ],
   "source": [
    "# OpenCV - SPACE to take frame, ESC to close video source\n",
    "\n",
    "# There is one camera, so init VideoCapture with arg 0\n",
    "video_feed = cv2.VideoCapture(0)\n",
    "# cv2.namedWindow(\"Numeric Image\")\n",
    "img_counter = 0\n",
    "\n",
    "# Set video_feed dimension to 28x28 to match dataset dimensions\n",
    "video_feed.set(3, 28)\n",
    "video_feed.set(4, 28) \n",
    "\n",
    "print('''\n",
    "Press SPACEBAR to take images of numbers.\n",
    "Press ESC to terminate video feed\n",
    "''')\n",
    "\n",
    "while True:\n",
    "    img_name = f\"Numeric_Image_{img_counter}.png\"\n",
    "    dir_name = directory + '/' + img_name\n",
    "    is_frame_saved, frame = video_feed.read()\n",
    "    if not is_frame_saved:\n",
    "        break    \n",
    "    key = cv2.waitKey(5)\n",
    "    \n",
    "    cv2.imshow('Numeric Image', frame)\n",
    "    \n",
    "    if (key % 256 == 27):\n",
    "        # ESC pressed\n",
    "        video_feed.release()\n",
    "        cv2.destroyAllWindows()\n",
    "        print(\"\\nTerminating Video Source...\")\n",
    "        break\n",
    "    elif (key % 256 == 32):    \n",
    "        # SPACE pressed\n",
    "        if os.path.exists(directory):\n",
    "            cv2.imwrite(dir_name, frame)\n",
    "            print(f'\"{dir_name}\" successfully written')\n",
    "            img_counter += 1\n",
    "        else:\n",
    "            print(f'\\nDirectory:\"{directory}\" does not exist, please create it to save \"{dir_name}\"')\n",
    "            video_feed.release()\n",
    "            cv2.destroyAllWindows()\n",
    "            break\n",
    "\n",
    "video_feed.release()\n",
    "cv2.destroyAllWindows()"
   ]
  },
  {
   "cell_type": "code",
   "execution_count": 50,
   "metadata": {},
   "outputs": [
    {
     "data": {
      "image/png": "[encoded data removed]",
      "text/plain": [
       "<matplotlib.figure.Figure at 0x7f5909a4a978>"
      ]
     },
     "metadata": {
      "needs_background": "light"
     },
     "output_type": "display_data"
    },
    {
     "data": {
      "image/png": "[encoded data removed]",
      "text/plain": [
       "<matplotlib.figure.Figure at 0x7f590993bd30>"
      ]
     },
     "metadata": {
      "needs_background": "light"
     },
     "output_type": "display_data"
    },
    {
     "data": {
      "image/png": "[encoded data removed]",
      "text/plain": [
       "<matplotlib.figure.Figure at 0x7f5909970710>"
      ]
     },
     "metadata": {
      "needs_background": "light"
     },
     "output_type": "display_data"
    },
    {
     "data": {
      "image/png": "[encoded data removed]",
      "text/plain": [
       "<matplotlib.figure.Figure at 0x7f590954d8d0>"
      ]
     },
     "metadata": {
      "needs_background": "light"
     },
     "output_type": "display_data"
    },
    {
     "data": {
      "image/png": "[encoded data removed]",
      "text/plain": [
       "<matplotlib.figure.Figure at 0x7f5909970550>"
      ]
     },
     "metadata": {
      "needs_background": "light"
     },
     "output_type": "display_data"
    }
   ],
   "source": [
    "# Display & predict input images\n",
    "\n",
    "if os.path.exists(directory):\n",
    "    for image in os.listdir(directory):\n",
    "        # Load and process input images\n",
    "        loaded_img = cv2.imread(f'{directory}/{image}', cv2.IMREAD_GRAYSCALE)\n",
    "        loaded_img = cv2.resize(loaded_img, (28, 28), interpolation = cv2.INTER_LINEAR)\n",
    "        loaded_img = cv2.bitwise_not(loaded_img)\n",
    "        imgplot = plt.imshow(loaded_img, cmap='gray')\n",
    "        \n",
    "        # Use model to make prediction on imput images\n",
    "        prediction = model.predict_classes(loaded_img.reshape((1, 1, 28, 28)))\n",
    "        plt.title(f'Model prediction: {prediction}')\n",
    "        plt.show()\n",
    "else:\n",
    "    print(f'Directory:\"{directory}\" does not exist, no images to load')"
   ]
  }
 ],
 "metadata": {
  "kernelspec": {
   "display_name": "Python 3",
   "language": "python",
   "name": "python3"
  },
  "language_info": {
   "codemirror_mode": {
    "name": "ipython",
    "version": 3
   },
   "file_extension": ".py",
   "mimetype": "text/x-python",
   "name": "python",
   "nbconvert_exporter": "python",
   "pygments_lexer": "ipython3",
   "version": "3.6.6"
  },
  "toc": {
   "base_numbering": 1,
   "nav_menu": {},
   "number_sections": false,
   "sideBar": true,
   "skip_h1_title": false,
   "title_cell": "Table of Contents",
   "title_sidebar": "Contents",
   "toc_cell": false,
   "toc_position": {
    "height": "calc(100% - 180px)",
    "left": "10px",
    "top": "150px",
    "width": "337.273px"
   },
   "toc_section_display": true,
   "toc_window_display": false
  }
 },
 "nbformat": 4,
 "nbformat_minor": 2
}
