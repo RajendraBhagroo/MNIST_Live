{
 "cells": [
  {
   "cell_type": "markdown",
   "metadata": {},
   "source": [
    "### MNIST Handwritten Digit Recognizer With Live Video Feed\n",
    "<pre>\n",
    "Authors            : Rajendra Bhagroo  | Christopher Guevarra\n",
    "Emails             : Rbhagroo@Nyit.edu | Cguevarr@nyit.edu\n",
    "\n",
    "Course Name        : Artificial Intelligence 1\n",
    "Course Number      : CSCI 355 - W01D\n",
    "Course Instructor  : Maherukh Akhtar\n",
    "\n",
    "Date Due           : 12/10/18\n",
    "Date Last Modified : 11/12/18\n",
    "Kernel             : Python 3.6.3\n",
    "</pre>"
   ]
  },
  {
   "cell_type": "code",
   "execution_count": null,
   "metadata": {},
   "outputs": [],
   "source": []
  }
 ],
 "metadata": {
  "kernelspec": {
   "display_name": "Python 3",
   "language": "python",
   "name": "python3"
  },
  "language_info": {
   "codemirror_mode": {
    "name": "ipython",
    "version": 3
   },
   "file_extension": ".py",
   "mimetype": "text/x-python",
   "name": "python",
   "nbconvert_exporter": "python",
   "pygments_lexer": "ipython3",
   "version": "3.7.0"
  },
  "toc": {
   "base_numbering": 1,
   "nav_menu": {},
   "number_sections": false,
   "sideBar": true,
   "skip_h1_title": false,
   "title_cell": "Table of Contents",
   "title_sidebar": "Contents",
   "toc_cell": false,
   "toc_position": {
    "height": "calc(100% - 180px)",
    "left": "10px",
    "top": "150px",
    "width": "337.273px"
   },
   "toc_section_display": true,
   "toc_window_display": false
  }
 },
 "nbformat": 4,
 "nbformat_minor": 2
}
