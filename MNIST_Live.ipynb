{
 "cells": [
  {
   "cell_type": "markdown",
   "metadata": {},
   "source": [
    "### MNIST Handwritten Digit Recognizer With Live Video Feed\n",
    "<pre>\n",
    "Authors            : Rajendra Bhagroo  | Christopher Guevarra\n",
    "Emails             : Rbhagroo@Nyit.edu | Cguevarr@nyit.edu\n",
    "\n",
    "Course Name        : Artificial Intelligence 1\n",
    "Course Number      : CSCI 355 - W01D\n",
    "Course Instructor  : Maherukh Akhtar\n",
    "\n",
    "Date Due           : 12/10/18\n",
    "Date Last Modified : 11/18/18\n",
    "Kernel             : Python 3.6.6\n",
    "</pre>"
   ]
  },
  {
   "cell_type": "code",
   "execution_count": null,
   "metadata": {},
   "outputs": [],
   "source": [
    "# Install pip packages for the current Jupyter kernel\n",
    "from sys import executable\n",
    "\n",
    "!{executable} -m pip install --upgrade pip\n",
    "!{executable} -m pip install matplotlib\n",
    "!{executable} -m pip install keras\n",
    "\n",
    "# Python 3.6 Compatable: https://www.tensorflow.org/install/pip\n",
    "!{executable} -m pip install --upgrade tensorflow"
   ]
  },
  {
   "cell_type": "code",
   "execution_count": null,
   "metadata": {},
   "outputs": [],
   "source": [
    "'''\n",
    "Sets matplotlib's backend engine to display plots within current Jupyter kernel\n",
    "Sets Tensorflow as backend engine\n",
    "'''\n",
    "%matplotlib inline\n",
    "import tensorflow as tf\n",
    "\n",
    "import matplotlib\n",
    "import matplotlib.pyplot as plt\n",
    "import numpy as np\n",
    "\n",
    "# https://keras.io/datasets/#mnist-database-of-handwritten-digits\n",
    "# To implement different dataset see: http://yann.lecun.com/exdb/mnist/\n",
    "from keras.datasets import mnist\n",
    "\n",
    "# Keras is a high level API that will use TensorFlow for its backend engine\n",
    "from keras.models import Sequential\n",
    "from keras.layers import Dense\n",
    "from keras.layers import Dropout\n",
    "from keras.layers import Flatten\n",
    "from keras.layers.convolutional import Conv2D\n",
    "from keras.layers.convolutional import MaxPooling2D\n",
    "from keras.utils import np_utils"
   ]
  },
  {
   "cell_type": "code",
   "execution_count": null,
   "metadata": {},
   "outputs": [],
   "source": [
    "# Load Data\n",
    "'''\n",
    "Dataset Info:\n",
    "    28x28 greyscale images [Digits 0-9]\n",
    "    Training Set: 60,000 images\n",
    "    Testing Set: 10,000 images\n",
    "    X_train, X_test: uint8 array of grayscale image data with shape (num_samples, 28, 28)\n",
    "    y_train, y_test: uint8 array of digit labels (integers in range 0-9) with shape (num_samples,)\n",
    "'''\n",
    "(X_train, y_train), (X_test, y_test) = mnist.load_data()"
   ]
  },
  {
   "cell_type": "code",
   "execution_count": null,
   "metadata": {},
   "outputs": [],
   "source": [
    "# Preprocess Data\n",
    "'''\n",
    "Inspecting the data, we can see that we are working with a numpy array with shape (60000, 28, 28)\n",
    "\n",
    "Shape:\n",
    "    Number Of Samples: 60,000\n",
    "    Rows    [pixels] : 28\n",
    "    Columns [pixels] : 28\n",
    "'''\n",
    "\n",
    "print(f'''\n",
    "Before Manipulation\n",
    "    X_train class type: {type(X_train)}\n",
    "    X_train data type: {X_train.dtype}\n",
    "    X_train shape: {X_train.shape}\n",
    "''')\n",
    "\n",
    "\n",
    "# Reshape Data\n",
    "'''\n",
    "Reshape numpy array from 3D to 4D, resembling [samples][channels][width][height]\n",
    "1 channel = greyscale images, we would use 3 channels for RGB colored images.\n",
    "\n",
    "We will also change the datatype from uint8 to float32 to work with decimal range [0-1]\n",
    "'''\n",
    "\n",
    "X_train = X_train.reshape(X_train.shape[0], 1, 28, 28).astype('float32')\n",
    "X_test = X_test.reshape(X_test.shape[0], 1, 28, 28).astype('float32')\n",
    "\n",
    "print(f'''\n",
    "After Manipulation\n",
    "    X_train class type: {type(X_train)}\n",
    "    X_train data type: {X_train.dtype}\n",
    "    X_train shape: {X_train.shape}\n",
    "''')"
   ]
  },
  {
   "cell_type": "code",
   "execution_count": null,
   "metadata": {},
   "outputs": [],
   "source": [
    "# Normalize Data \n",
    "# Input images are represented by 8-bits, 0-255 range [RGB]. lets change the range to 0-1 [Greyscale]\n",
    "\n",
    "print(f'''\n",
    "Un-Normalized Array [RGB: 0-255]\\n\n",
    "{X_train[0][0][8]}\n",
    "''')\n",
    "\n",
    "X_train /= 255\n",
    "X_test /= 255\n",
    "\n",
    "print(f'''\n",
    "Normalized Array [Greyscale: 0-1]\\n\n",
    "{X_train[0][0][8]}\n",
    "''')\n",
    "\n",
    "\n",
    "# One-Hot Encode Data\n",
    "'''\n",
    "Encode using one-of-K scheme. Converts raw values into numerical form to feed into model\n",
    "Binary vector representation of categorical data\n",
    "Example:                  0123456789\n",
    "         Raw Digit [4] = [0001000000]\n",
    "         Raw Digit [9] = [0000000010]\n",
    "'''\n",
    "\n",
    "y_train = np_utils.to_categorical(y_train)\n",
    "y_test = np_utils.to_categorical(y_test)\n",
    "print(f\"Number Of Classes: {y_test.shape[1]}\")"
   ]
  },
  {
   "cell_type": "code",
   "execution_count": null,
   "metadata": {},
   "outputs": [],
   "source": [
    "# Plot Data\n",
    "\n",
    "'''\n",
    "Using Matplotlib to plot the first 5 images in the test set, labels included in one-hot form\n",
    "Remember This Example?\n",
    "\n",
    "Example:                  0123456789\n",
    "         Raw Digit [4] = [0001000000]\n",
    "         Raw Digit [9] = [0000000010]\n",
    "'''\n",
    "for i in range(5):\n",
    "    image = X_test[i]\n",
    "    image = np.array(image, dtype='float32')\n",
    "    pixels = image.reshape((28, 28))\n",
    "    plt.title(f'One-Hot Encoded Label\\n {y_test[i]}')\n",
    "    plt.imshow(pixels, cmap='gray')\n",
    "    plt.show()"
   ]
  },
  {
   "cell_type": "code",
   "execution_count": null,
   "metadata": {},
   "outputs": [],
   "source": [
    "# Build Model\n",
    "# SHUFFLE DATA! \n",
    "# Evaluate Model\n",
    "# Save Model"
   ]
  },
  {
   "cell_type": "code",
   "execution_count": null,
   "metadata": {},
   "outputs": [],
   "source": [
    "# OpenCV"
   ]
  }
 ],
 "metadata": {
  "kernelspec": {
   "display_name": "Python 3",
   "language": "python",
   "name": "python3"
  },
  "language_info": {
   "codemirror_mode": {
    "name": "ipython",
    "version": 3
   },
   "file_extension": ".py",
   "mimetype": "text/x-python",
   "name": "python",
   "nbconvert_exporter": "python",
   "pygments_lexer": "ipython3",
   "version": "3.6.6"
  },
  "toc": {
   "base_numbering": 1,
   "nav_menu": {},
   "number_sections": false,
   "sideBar": true,
   "skip_h1_title": false,
   "title_cell": "Table of Contents",
   "title_sidebar": "Contents",
   "toc_cell": false,
   "toc_position": {
    "height": "calc(100% - 180px)",
    "left": "10px",
    "top": "150px",
    "width": "337.273px"
   },
   "toc_section_display": true,
   "toc_window_display": false
  }
 },
 "nbformat": 4,
 "nbformat_minor": 2
}
