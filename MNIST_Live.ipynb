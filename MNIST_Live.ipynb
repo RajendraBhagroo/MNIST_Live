{
 "cells": [
  {
   "cell_type": "markdown",
   "metadata": {},
   "source": [
    "### MNIST Handwritten Digit Recognizer With Live Video Feed\n",
    "<pre>\n",
    "Authors            : Rajendra Bhagroo  | Christopher Guevarra\n",
    "Emails             : Rbhagroo@Nyit.edu | Cguevarr@nyit.edu\n",
    "\n",
    "Course Name        : Artificial Intelligence 1\n",
    "Course Number      : CSCI 355 - W01D\n",
    "Course Instructor  : Maherukh Akhtar\n",
    "\n",
    "Date Due           : 12/10/18\n",
    "Date Last Modified : 11/21/18\n",
    "Kernel             : Python 3.6.6\n",
    "\n",
    "Credits: \n",
    "* Yassine Ghouzam  : https://bit.ly/2Tz2u9N\n",
    "* Jason Brownlee   : https://bit.ly/2vtcCUe\n",
    "</pre>"
   ]
  },
  {
   "cell_type": "code",
   "execution_count": 2,
   "metadata": {
    "scrolled": true
   },
   "outputs": [
    {
     "name": "stdout",
     "output_type": "stream",
     "text": [
      "Requirement already up-to-date: pip in c:\\users\\jacob\\appdata\\local\\programs\\python\\python36\\lib\\site-packages (18.1)\n",
      "Requirement already satisfied: matplotlib in c:\\users\\jacob\\appdata\\local\\programs\\python\\python36\\lib\\site-packages (3.0.2)\n",
      "Requirement already satisfied: numpy>=1.10.0 in c:\\users\\jacob\\appdata\\local\\programs\\python\\python36\\lib\\site-packages (from matplotlib) (1.15.4)\n",
      "Requirement already satisfied: cycler>=0.10 in c:\\users\\jacob\\appdata\\local\\programs\\python\\python36\\lib\\site-packages (from matplotlib) (0.10.0)\n",
      "Requirement already satisfied: python-dateutil>=2.1 in c:\\users\\jacob\\appdata\\local\\programs\\python\\python36\\lib\\site-packages (from matplotlib) (2.7.5)\n",
      "Requirement already satisfied: kiwisolver>=1.0.1 in c:\\users\\jacob\\appdata\\local\\programs\\python\\python36\\lib\\site-packages (from matplotlib) (1.0.1)\n",
      "Requirement already satisfied: pyparsing!=2.0.4,!=2.1.2,!=2.1.6,>=2.0.1 in c:\\users\\jacob\\appdata\\local\\programs\\python\\python36\\lib\\site-packages (from matplotlib) (2.3.0)\n",
      "Requirement already satisfied: six in c:\\users\\jacob\\appdata\\local\\programs\\python\\python36\\lib\\site-packages (from cycler>=0.10->matplotlib) (1.11.0)\n",
      "Requirement already satisfied: setuptools in c:\\users\\jacob\\appdata\\local\\programs\\python\\python36\\lib\\site-packages (from kiwisolver>=1.0.1->matplotlib) (39.0.1)\n",
      "Requirement already satisfied: keras in c:\\users\\jacob\\appdata\\local\\programs\\python\\python36\\lib\\site-packages (2.2.4)\n",
      "Requirement already satisfied: h5py in c:\\users\\jacob\\appdata\\local\\programs\\python\\python36\\lib\\site-packages (from keras) (2.8.0)\n",
      "Requirement already satisfied: keras-applications>=1.0.6 in c:\\users\\jacob\\appdata\\local\\programs\\python\\python36\\lib\\site-packages (from keras) (1.0.6)\n",
      "Requirement already satisfied: keras-preprocessing>=1.0.5 in c:\\users\\jacob\\appdata\\local\\programs\\python\\python36\\lib\\site-packages (from keras) (1.0.5)\n",
      "Requirement already satisfied: scipy>=0.14 in c:\\users\\jacob\\appdata\\local\\programs\\python\\python36\\lib\\site-packages (from keras) (1.1.0)\n",
      "Requirement already satisfied: pyyaml in c:\\users\\jacob\\appdata\\local\\programs\\python\\python36\\lib\\site-packages (from keras) (3.13)\n",
      "Requirement already satisfied: six>=1.9.0 in c:\\users\\jacob\\appdata\\local\\programs\\python\\python36\\lib\\site-packages (from keras) (1.11.0)\n",
      "Requirement already satisfied: numpy>=1.9.1 in c:\\users\\jacob\\appdata\\local\\programs\\python\\python36\\lib\\site-packages (from keras) (1.15.4)\n",
      "Requirement already satisfied: opencv-python in c:\\users\\jacob\\appdata\\local\\programs\\python\\python36\\lib\\site-packages (3.4.3.18)\n",
      "Requirement already satisfied: numpy>=1.11.3 in c:\\users\\jacob\\appdata\\local\\programs\\python\\python36\\lib\\site-packages (from opencv-python) (1.15.4)\n",
      "Requirement already up-to-date: tensorflow in c:\\users\\jacob\\appdata\\local\\programs\\python\\python36\\lib\\site-packages (1.12.0)\n",
      "Requirement already satisfied, skipping upgrade: protobuf>=3.6.1 in c:\\users\\jacob\\appdata\\local\\programs\\python\\python36\\lib\\site-packages (from tensorflow) (3.6.1)\n",
      "Requirement already satisfied, skipping upgrade: wheel>=0.26 in c:\\users\\jacob\\appdata\\local\\programs\\python\\python36\\lib\\site-packages (from tensorflow) (0.32.3)\n",
      "Requirement already satisfied, skipping upgrade: keras-applications>=1.0.6 in c:\\users\\jacob\\appdata\\local\\programs\\python\\python36\\lib\\site-packages (from tensorflow) (1.0.6)\n",
      "Requirement already satisfied, skipping upgrade: six>=1.10.0 in c:\\users\\jacob\\appdata\\local\\programs\\python\\python36\\lib\\site-packages (from tensorflow) (1.11.0)\n",
      "Requirement already satisfied, skipping upgrade: tensorboard<1.13.0,>=1.12.0 in c:\\users\\jacob\\appdata\\local\\programs\\python\\python36\\lib\\site-packages (from tensorflow) (1.12.0)\n",
      "Requirement already satisfied, skipping upgrade: gast>=0.2.0 in c:\\users\\jacob\\appdata\\local\\programs\\python\\python36\\lib\\site-packages (from tensorflow) (0.2.0)\n",
      "Requirement already satisfied, skipping upgrade: numpy>=1.13.3 in c:\\users\\jacob\\appdata\\local\\programs\\python\\python36\\lib\\site-packages (from tensorflow) (1.15.4)\n",
      "Requirement already satisfied, skipping upgrade: astor>=0.6.0 in c:\\users\\jacob\\appdata\\local\\programs\\python\\python36\\lib\\site-packages (from tensorflow) (0.7.1)\n",
      "Requirement already satisfied, skipping upgrade: termcolor>=1.1.0 in c:\\users\\jacob\\appdata\\local\\programs\\python\\python36\\lib\\site-packages (from tensorflow) (1.1.0)\n",
      "Requirement already satisfied, skipping upgrade: absl-py>=0.1.6 in c:\\users\\jacob\\appdata\\local\\programs\\python\\python36\\lib\\site-packages (from tensorflow) (0.6.1)\n",
      "Requirement already satisfied, skipping upgrade: keras-preprocessing>=1.0.5 in c:\\users\\jacob\\appdata\\local\\programs\\python\\python36\\lib\\site-packages (from tensorflow) (1.0.5)\n",
      "Requirement already satisfied, skipping upgrade: grpcio>=1.8.6 in c:\\users\\jacob\\appdata\\local\\programs\\python\\python36\\lib\\site-packages (from tensorflow) (1.16.1)\n",
      "Requirement already satisfied, skipping upgrade: setuptools in c:\\users\\jacob\\appdata\\local\\programs\\python\\python36\\lib\\site-packages (from protobuf>=3.6.1->tensorflow) (39.0.1)\n",
      "Requirement already satisfied, skipping upgrade: h5py in c:\\users\\jacob\\appdata\\local\\programs\\python\\python36\\lib\\site-packages (from keras-applications>=1.0.6->tensorflow) (2.8.0)\n",
      "Requirement already satisfied, skipping upgrade: markdown>=2.6.8 in c:\\users\\jacob\\appdata\\local\\programs\\python\\python36\\lib\\site-packages (from tensorboard<1.13.0,>=1.12.0->tensorflow) (3.0.1)\n",
      "Requirement already satisfied, skipping upgrade: werkzeug>=0.11.10 in c:\\users\\jacob\\appdata\\local\\programs\\python\\python36\\lib\\site-packages (from tensorboard<1.13.0,>=1.12.0->tensorflow) (0.14.1)\n"
     ]
    }
   ],
   "source": [
    "# Install pip packages for the current Jupyter kernel\n",
    "from sys import executable\n",
    "\n",
    "!{executable} -m pip install --upgrade pip\n",
    "!{executable} -m pip install matplotlib\n",
    "!{executable} -m pip install keras\n",
    "!{executable} -m pip install opencv-python\n",
    "\n",
    "# Python 3.6 Compatable: https://www.tensorflow.org/install/pip\n",
    "!{executable} -m pip install --upgrade tensorflow"
   ]
  },
  {
   "cell_type": "code",
   "execution_count": 1,
   "metadata": {},
   "outputs": [
    {
     "name": "stderr",
     "output_type": "stream",
     "text": [
      "Using TensorFlow backend.\n"
     ]
    }
   ],
   "source": [
    "'''\n",
    "Sets matplotlib's backend engine to display plots within current Jupyter kernel\n",
    "Sets Tensorflow as backend engine\n",
    "'''\n",
    "%matplotlib inline\n",
    "import tensorflow as tf\n",
    "import matplotlib\n",
    "import matplotlib.image as mpimg\n",
    "import matplotlib.pyplot as plt\n",
    "import numpy as np\n",
    "import cv2\n",
    "\n",
    "# https://keras.io/datasets/#mnist-database-of-handwritten-digits\n",
    "# To implement different dataset see: http://yann.lecun.com/exdb/mnist/\n",
    "from keras.datasets import mnist\n",
    "\n",
    "# Keras is a high level API that will use TensorFlow for its backend engine\n",
    "from keras.models import Sequential\n",
    "from keras.layers import Dense\n",
    "from keras.layers import Dropout\n",
    "from keras.layers import Flatten\n",
    "from keras.layers.convolutional import Conv2D\n",
    "from keras.layers.convolutional import MaxPooling2D\n",
    "from keras.utils import np_utils\n",
    "from keras import backend as K\n",
    "\n",
    "# Allows us to save [dump] and load models\n",
    "import pickle"
   ]
  },
  {
   "cell_type": "code",
   "execution_count": 2,
   "metadata": {},
   "outputs": [],
   "source": [
    "# Random Numbers Seeded [Fixed] for reproducability\n",
    "np.random.seed(5)\n",
    "\n",
    "# Load Data\n",
    "'''\n",
    "Dataset Info:\n",
    "    28x28 greyscale images [Digits 0-9]\n",
    "    Training Set: 60,000 images\n",
    "    Testing Set: 10,000 images\n",
    "    X_train, X_test: uint8 array of grayscale image data with shape (num_samples, 28, 28)\n",
    "    y_train, y_test: uint8 array of digit labels (integers in range 0-9) with shape (num_samples,)\n",
    "'''\n",
    "(X_train, y_train), (X_test, y_test) = mnist.load_data()"
   ]
  },
  {
   "cell_type": "code",
   "execution_count": 3,
   "metadata": {},
   "outputs": [
    {
     "name": "stdout",
     "output_type": "stream",
     "text": [
      "\n",
      "Before Manipulation\n",
      "    X_train class type: <class 'numpy.ndarray'>\n",
      "    X_train data type: uint8\n",
      "    X_train shape: (60000, 28, 28)\n",
      "\n",
      "\n",
      "After Manipulation\n",
      "    X_train class type: <class 'numpy.ndarray'>\n",
      "    X_train data type: float32\n",
      "    X_train shape: (60000, 1, 28, 28)\n",
      "\n"
     ]
    }
   ],
   "source": [
    "# Preprocess Data\n",
    "'''\n",
    "Inspecting the data, we can see that we are working with a numpy array with shape (60000, 28, 28)\n",
    "\n",
    "Shape:\n",
    "    Number Of Samples: 60,000\n",
    "    Rows    [pixels] : 28\n",
    "    Columns [pixels] : 28\n",
    "'''\n",
    "\n",
    "print(f'''\n",
    "Before Manipulation\n",
    "    X_train class type: {type(X_train)}\n",
    "    X_train data type: {X_train.dtype}\n",
    "    X_train shape: {X_train.shape}\n",
    "''')\n",
    "\n",
    "\n",
    "# Reshape Data\n",
    "'''\n",
    "Reshape numpy array from 3D to 4D, resembling [samples][channels][width][height]\n",
    "1 channel = greyscale images, we would use 3 channels for RGB colored images.\n",
    "\n",
    "We will also change the datatype from uint8 to float32 to work with decimal range [0-1]\n",
    "'''\n",
    "\n",
    "X_train = X_train.reshape(X_train.shape[0], 1, 28, 28).astype('float32')\n",
    "X_test = X_test.reshape(X_test.shape[0], 1, 28, 28).astype('float32')\n",
    "\n",
    "print(f'''\n",
    "After Manipulation\n",
    "    X_train class type: {type(X_train)}\n",
    "    X_train data type: {X_train.dtype}\n",
    "    X_train shape: {X_train.shape}\n",
    "''')"
   ]
  },
  {
   "cell_type": "code",
   "execution_count": 4,
   "metadata": {},
   "outputs": [
    {
     "name": "stdout",
     "output_type": "stream",
     "text": [
      "\n",
      "Un-Normalized Array [RGB: 0-255]\n",
      "\n",
      "[  0.   0.   0.   0.   0.   0.   0.  18. 219. 253. 253. 253. 253. 253.\n",
      " 198. 182. 247. 241.   0.   0.   0.   0.   0.   0.   0.   0.   0.   0.]\n",
      "\n",
      "\n",
      "Normalized Array [Greyscale: 0-1]\n",
      "\n",
      "[0.         0.         0.         0.         0.         0.\n",
      " 0.         0.07058824 0.85882354 0.99215686 0.99215686 0.99215686\n",
      " 0.99215686 0.99215686 0.7764706  0.7137255  0.96862745 0.94509804\n",
      " 0.         0.         0.         0.         0.         0.\n",
      " 0.         0.         0.         0.        ]\n",
      "\n",
      "Number Of Classes: 10\n"
     ]
    }
   ],
   "source": [
    "# Normalize Data \n",
    "# Input images are represented by 8-bits, 0-255 range [RGB]. lets change the range to 0-1 [Greyscale]\n",
    "\n",
    "print(f'''\n",
    "Un-Normalized Array [RGB: 0-255]\\n\n",
    "{X_train[0][0][8]}\n",
    "''')\n",
    "\n",
    "X_train /= 255\n",
    "X_test /= 255\n",
    "\n",
    "print(f'''\n",
    "Normalized Array [Greyscale: 0-1]\\n\n",
    "{X_train[0][0][8]}\n",
    "''')\n",
    "\n",
    "\n",
    "# One-Hot Encode Data\n",
    "'''\n",
    "Encode using one-of-K scheme. Converts raw values into numerical form to feed into model\n",
    "Binary vector representation of categorical data\n",
    "Example:                  0123456789\n",
    "         Raw Digit [4] = [0001000000]\n",
    "         Raw Digit [9] = [0000000010]\n",
    "'''\n",
    "\n",
    "y_train = np_utils.to_categorical(y_train)\n",
    "y_test = np_utils.to_categorical(y_test)\n",
    "\n",
    "num_classes = y_test.shape[1]\n",
    "print(f\"Number Of Classes: {num_classes}\")"
   ]
  },
  {
   "cell_type": "code",
   "execution_count": 5,
   "metadata": {},
   "outputs": [
    {
     "data": {
      "image/png": "[encoded data removed]",
      "text/plain": [
       "<Figure size 432x288 with 1 Axes>"
      ]
     },
     "metadata": {
      "needs_background": "light"
     },
     "output_type": "display_data"
    },
    {
     "data": {
      "image/png": "[encoded data removed]",
      "text/plain": [
       "<Figure size 432x288 with 1 Axes>"
      ]
     },
     "metadata": {
      "needs_background": "light"
     },
     "output_type": "display_data"
    },
    {
     "data": {
      "image/png": "[encoded data removed]",
      "text/plain": [
       "<Figure size 432x288 with 1 Axes>"
      ]
     },
     "metadata": {
      "needs_background": "light"
     },
     "output_type": "display_data"
    },
    {
     "data": {
      "image/png": "[encoded data removed]",
      "text/plain": [
       "<Figure size 432x288 with 1 Axes>"
      ]
     },
     "metadata": {
      "needs_background": "light"
     },
     "output_type": "display_data"
    },
    {
     "data": {
      "image/png": "[encoded data removed]",
      "text/plain": [
       "<Figure size 432x288 with 1 Axes>"
      ]
     },
     "metadata": {
      "needs_background": "light"
     },
     "output_type": "display_data"
    }
   ],
   "source": [
    "# Plot Data\n",
    "\n",
    "'''\n",
    "Using Matplotlib to plot the first 5 images in the test set, labels included in one-hot form\n",
    "Remember This Example?\n",
    "\n",
    "Example:                  0123456789\n",
    "         Raw Digit [4] = [0001000000]\n",
    "         Raw Digit [9] = [0000000010]\n",
    "'''\n",
    "for i in range(5):\n",
    "    \n",
    "    # Grab image and process\n",
    "    image = X_test[i]\n",
    "    image = np.array(image, dtype='float32')\n",
    "    pixels = image.reshape((28, 28))\n",
    "    \n",
    "    # Plot image with corresponding one-hot encoded label \n",
    "    plt.title(f'One-Hot Encoded Label\\n {y_test[i]}')\n",
    "    plt.imshow(pixels, cmap='gray')\n",
    "    plt.show()"
   ]
  },
  {
   "cell_type": "code",
   "execution_count": 6,
   "metadata": {},
   "outputs": [],
   "source": [
    "# Define Model\n",
    "\n",
    "# \"th\" mode means that the images should have shape (samples, channels, height, width)\n",
    "# \"tf\" mode means that the images should have shape (samples, height, width, channels)\n",
    "K.set_image_dim_ordering('th')\n",
    "\n",
    "'''\n",
    "Deep learning models & layers pose a lengthy explanation.\n",
    "It is HIGHLY recommended to check out the documentation on Keras!\n",
    "https://keras.io/\n",
    "'''\n",
    "def build_cnn():\n",
    "    # Sequential model is a linear stack of layers, hence \"deep\" learning\n",
    "    model = Sequential()\n",
    "\n",
    "\n",
    "    model.add(Conv2D(30, (5, 5), input_shape=(1, 28, 28), activation='relu'))\n",
    "    model.add(MaxPooling2D(pool_size=(2, 2)))\n",
    "    \n",
    "    model.add(Conv2D(15, (3, 3), activation='relu'))\n",
    "    model.add(MaxPooling2D(pool_size=(2, 2)))\n",
    "    \n",
    "    model.add(Dropout(rate=0.2))\n",
    "    model.add(Flatten())\n",
    "    \n",
    "    model.add(Dense(units=128, activation='relu'))\n",
    "    model.add(Dense(units=50, activation='relu'))\n",
    "    \n",
    "    model.add(Dense(units=num_classes, activation='softmax'))\n",
    "    \n",
    "    # Compile Model\n",
    "    model.compile(loss='categorical_crossentropy', optimizer='adam', metrics=['accuracy'])\n",
    "    return model"
   ]
  },
  {
   "cell_type": "code",
   "execution_count": 2,
   "metadata": {},
   "outputs": [
    {
     "data": {
      "text/plain": [
       "'\\n# Build Model\\nmodel = build_cnn()\\n\\n# Train Model\\nmodel.fit(X_train, y_train, validation_data=(X_test, y_test), epochs=10, batch_size=200)\\n'"
      ]
     },
     "execution_count": 2,
     "metadata": {},
     "output_type": "execute_result"
    }
   ],
   "source": [
    "'''\n",
    "# Build Model\n",
    "model = build_cnn()\n",
    "\n",
    "# Train Model\n",
    "model.fit(X_train, y_train, validation_data=(X_test, y_test), epochs=10, batch_size=200)\n",
    "'''"
   ]
  },
  {
   "cell_type": "code",
   "execution_count": null,
   "metadata": {},
   "outputs": [],
   "source": [
    "'''\n",
    "# Evaluate Model\n",
    "scores = model.evaluate(X_test, y_test, verbose=1)\n",
    "print(\"CNN Error: %.2f%%\" % (100-scores[1]*100))\n",
    "\n",
    "# Save Model To Disk\n",
    "filename = 'MNIST_CNN_Model.sav'\n",
    "pickle.dump(model, open(filename, 'wb'))\n",
    "print(f'Successfully Saved: {filename}')\n",
    "'''"
   ]
  },
  {
   "cell_type": "code",
   "execution_count": 2,
   "metadata": {},
   "outputs": [
    {
     "name": "stdout",
     "output_type": "stream",
     "text": [
      "Successfully Loaded: MNIST_CNN_Model.sav\n"
     ]
    }
   ],
   "source": [
    "#Load Model From Disk\n",
    "filename = 'MNIST_CNN_Model.sav'\n",
    "model = pickle.load(open(filename,'rb'))\n",
    "print(f'Successfully Loaded: {filename}')"
   ]
  },
  {
   "cell_type": "code",
   "execution_count": 3,
   "metadata": {},
   "outputs": [
    {
     "name": "stdout",
     "output_type": "stream",
     "text": [
      "Numeric_Image_0.png successfully written\n",
      "Terminating Video Source...\n"
     ]
    }
   ],
   "source": [
    "# OpenCV - SPACE to take frame, ESC to close video source\n",
    "\n",
    "# There is one camera, so init VideoCapture with arg 0\n",
    "video_feed = cv2.VideoCapture(0)\n",
    "cv2.namedWindow(\"Numeric Image\")\n",
    "img_counter = 0\n",
    "# Set video_feed dimension to 28x28 to match dataset dimensions\n",
    "video_feed.set(3, 28)\n",
    "video_feed.set(4, 28) \n",
    "while True:\n",
    "    is_frame_saved, frame= video_feed.read()\n",
    "\n",
    "    if not is_frame_saved:\n",
    "        break\n",
    "    key = cv2.waitKey(5)\n",
    "    cv2.imshow(\"Numeric Image Win\", frame)\n",
    "    if (key % 256 == 27):\n",
    "        # ESC pressed\n",
    "        video_feed.release()\n",
    "        cv2.destroyAllWindows()\n",
    "        print(\"Terminating Video Source...\")\n",
    "        break\n",
    "    elif (key % 256 == 32):\n",
    "        # SPACE pressed\n",
    "        img_name = f\"Numeric_Image_{img_counter}.png\"\n",
    "        cv2.imwrite(img_name, frame)\n",
    "        print(f\"{img_name} successfully written\")\n",
    "        img_counter += 1\n",
    "\n",
    "video_feed.release()\n",
    "cv2.destroyAllWindows()\n"
   ]
  },
  {
   "cell_type": "code",
   "execution_count": 4,
   "metadata": {},
   "outputs": [
    {
     "data": {
      "image/png": "[encoded data removed]",
      "text/plain": [
       "<Figure size 432x288 with 1 Axes>"
      ]
     },
     "metadata": {
      "needs_background": "light"
     },
     "output_type": "display_data"
    }
   ],
   "source": [
    "# Display & manipulate loaded image, and normalize the input\n",
    "loaded_img = cv2.imread('Numeric_Image_0.png', cv2.IMREAD_GRAYSCALE) \n",
    "loaded_img = cv2.resize(loaded_img, (28, 28), interpolation = cv2.INTER_AREA)\n",
    "loaded_img = cv2.bitwise_not(loaded_img)\n",
    "imgplot = plt.imshow(loaded_img, cmap='gray')\n",
    "plt.show()"
   ]
  },
  {
   "cell_type": "code",
   "execution_count": 5,
   "metadata": {},
   "outputs": [
    {
     "name": "stdout",
     "output_type": "stream",
     "text": [
      "Model prediction: [3]\n"
     ]
    }
   ],
   "source": [
    "# Use model to make prediction\n",
    "prediction = model.predict_classes(loaded_img.reshape((1, 1, 28, 28)))\n",
    "print(f'Model prediction: {prediction}')"
   ]
  }
 ],
 "metadata": {
  "kernelspec": {
   "display_name": "Python 3",
   "language": "python",
   "name": "python3"
  },
  "language_info": {
   "codemirror_mode": {
    "name": "ipython",
    "version": 3
   },
   "file_extension": ".py",
   "mimetype": "text/x-python",
   "name": "python",
   "nbconvert_exporter": "python",
   "pygments_lexer": "ipython3",
   "version": "3.6.5"
  },
  "toc": {
   "base_numbering": 1,
   "nav_menu": {},
   "number_sections": false,
   "sideBar": true,
   "skip_h1_title": false,
   "title_cell": "Table of Contents",
   "title_sidebar": "Contents",
   "toc_cell": false,
   "toc_position": {
    "height": "calc(100% - 180px)",
    "left": "10px",
    "top": "150px",
    "width": "337.273px"
   },
   "toc_section_display": true,
   "toc_window_display": false
  }
 },
 "nbformat": 4,
 "nbformat_minor": 2
}
